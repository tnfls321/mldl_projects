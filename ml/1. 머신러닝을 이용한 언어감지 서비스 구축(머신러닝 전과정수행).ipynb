{
 "cells": [
  {
   "cell_type": "markdown",
   "metadata": {},
   "source": [
    "## 머신러닝을 이용한여 언어 감지 서비스 구축\n",
    "\n",
    "### 1. 연구 목표 설정\n",
    "\n",
    "- 유사서비스 : 파파고, 구글 번역\n",
    "- 개요\n",
    "    - 번역 서비스중 언어 감지 파트는 머신러닝의 지도학습법 중 분류를 사용하겟다\n",
    "    - 알파벳을 사용하는 영어권에서는 알파벳 언어별로 알파벳의 사용 빈도가 다르다\n",
    "- 조건\n",
    "    - 비 영어권은 개별 방법론(완성형(utf-8), 조합형(euc-kr) 코드를 이용하여 판단) 배제\n",
    "    - 임시값(100byte) 이내 문자열을 배제, 임시값의 임계값은 변경될수 있다\n",
    "    - 번역서비스는 딥러닝의 RNN을 활용하여 처리하는데 여기서는 배제,단, 파파고 API를 활용하여 유사하게 구현\n",
    "    - 서비스가 오픈하고 데이터가 축적되면 모델을 갱신(언어는 진화하니까) 모델을 다시 학습하고 교체를 진행하는데 원활하게 수행되겠금 처리(전략). 일단 여기서는 데이터 축적"
   ]
  },
  {
   "cell_type": "markdown",
   "metadata": {},
   "source": [
    "|No|단계|내용|\n",
    "|:---:|:---|:---|\n",
    "|1|연구 목표 설정|- 웹서비스<br>- 사용자가 입력한 텍스트를 예측하여 어떤 언어인지 판독한다(영어권,알파벳 사용국가)<br>- 머신러닝의 지도학습-분류를 사용하겟다<br>- 파이프라인구축, 하이터파라미터튜닝을 이용한 최적화 부분은 제외<br>- 정량적인 목표치는 생략(평가배제)<br>- 임시값(100byte) 이내 문자열을 배제<br>- 논문을 통한 주장의 근거를 체크|\n",
    "|2|데이터 획득/수집|- 실전:다양한 텍스트를 수집, 위키피디아, 법률, 소설등등<br>- 구현:제공데이터를 사용(법령/대본/소설등)|\n",
    "|3|데이터 준비/통찰/전처리|- 알파벳을 제외한 모든 문자 제거(전처리,정규식)<br>- 텍스트를 알파벳의 출현 빈도로 계산한다(문자계산, 데이터의 수치화)<br>- 데이터는 훈련 데이터(훈련(50), 검증(25))와 테스트 데이터(25)로 나눈다 (훈련:테스트=75:25) 황금비율, 단 바뀔수 있다|\n",
    "|4|데이터 탐색/통찰/시각화|- 논문의 주장을 증명<br>- 영어권 언어별로 알파벳 출현 빈도가 다르다는 명제를 증명/확인<br>- EDA 분석(시각화)를 이용하여 확인, 선형차트, 바차트 등을 활용|\n",
    "|5|데이터 모델링 및 모델 구축|- 알고리즘 선정<br>- 학습데이터/테스트데이터 준비<br>- 학습<br>- 예측<br>- 성능평가(학습법,하위 카테고리 까지 검토 평가)<br>- 파이프라인구축을 통하여 알고리즘 체인을 적용, 최적의 알고리즘 조합을 찾는다<br>- 연구 목표에 도착할때까지 반복|\n",
    "|6|시스템 통합|- 모델 덤프(학습된 알고리즘을 파일로 덤프)<br>- 웹서비스 구축(falsk 간단하게 구성)<br>- 서비스 구축<br>- 모델의 업그레이드를 위한 시스템 추가<br>- 선순화구조를 위한 번역 요청 데이터의 로그 처리->배치학습, 온라인 학습등으로 연결되어 완성|"
   ]
  },
  {
   "cell_type": "markdown",
   "metadata": {},
   "source": [
    "### 2. 데이터 획득\n",
    "\n",
    "- 실전:다양한 텍스트를 수집, 위키피디아, 법률, 소설등등\n",
    "    - 라이브러리 : request, BS4 <- Lv3\n",
    "    - 사이트 : https://언어코드.wikipedia.org/wiki/검색어\n",
    "        - 예) https://en.wikipedia.org/wiki/Bong_Joon-ho\n",
    "- 구현:제공데이터를 사용(법령/대본/소설등)"
   ]
  },
  {
   "cell_type": "code",
   "execution_count": 155,
   "metadata": {},
   "outputs": [],
   "source": [
    "# 모듈 가져오기\n",
    "import urllib.request as req\n",
    "from bs4 import BeautifulSoup"
   ]
  },
  {
   "cell_type": "code",
   "execution_count": 156,
   "metadata": {},
   "outputs": [
    {
     "data": {
      "text/plain": [
       "'https://en.wikipedia.org/wiki/Bong_Joon-ho'"
      ]
     },
     "execution_count": 156,
     "metadata": {},
     "output_type": "execute_result"
    }
   ],
   "source": [
    "# 데이터 획득 사이트 규격화\n",
    "target_site ='https://{na_code}.wikipedia.org/wiki/{keyword}'.format(na_code='en', keyword='Bong_Joon-ho')\n",
    "target_site"
   ]
  },
  {
   "cell_type": "code",
   "execution_count": 157,
   "metadata": {},
   "outputs": [],
   "source": [
    "# 요청 및 SOUP생성 (DOM 트리)\n",
    "# html5lib 파서 사용 이유 : 대량의 html을 파싱하기 위해 안전성 고료\n",
    "soup = BeautifulSoup(req.urlopen(target_site), 'html5lib')"
   ]
  },
  {
   "cell_type": "code",
   "execution_count": 158,
   "metadata": {},
   "outputs": [
    {
     "data": {
      "text/plain": [
       "(22, list)"
      ]
     },
     "execution_count": 158,
     "metadata": {},
     "output_type": "execute_result"
    }
   ],
   "source": [
    "# 데이터 추출\n",
    "# css selector : #mw-content-text > p\n",
    "## mw-content-text > p  : 직계 , mw-content-text p : 직계 포함 후손\n",
    "tmp = soup.select('#mw-content-text p')\n",
    "len(tmp), type(tmp)"
   ]
  },
  {
   "cell_type": "code",
   "execution_count": 159,
   "metadata": {},
   "outputs": [],
   "source": [
    "# # p 밑에 있는 모든 텍스트를 리스트에 모아 둔다 => 멤버수가 => 22개\n",
    "\n",
    "# #리스트 생성\n",
    "# texts = list()\n",
    "# # texts=[]    => 정적 구성\n",
    "\n",
    "# #멤버 추가\n",
    "# for p in tmp:\n",
    "# #     print(type(p.text))\n",
    "#     texts.append(p.text)\n",
    "# len(texts),texts[:2]"
   ]
  },
  {
   "cell_type": "code",
   "execution_count": 160,
   "metadata": {},
   "outputs": [
    {
     "data": {
      "text/plain": [
       "(22,\n",
       " ['Filmography sources: KMDb[51] and IMDb[52]\\n',\n",
       "  ' Media related to Bong Joon-ho at Wikimedia Commons\\n'])"
      ]
     },
     "execution_count": 160,
     "metadata": {},
     "output_type": "execute_result"
    }
   ],
   "source": [
    "# 리스트 내포\n",
    "texts = [p.text for p in tmp]\n",
    "len(texts), texts[-2:]"
   ]
  },
  {
   "cell_type": "code",
   "execution_count": 161,
   "metadata": {},
   "outputs": [
    {
     "data": {
      "text/plain": [
       "(13266,\n",
       " '\\n Bong Joon-ho (Korean:\\xa0봉준호, Korean pronunciation:\\xa0[poːŋ tɕuːnho → poːŋdʑunɦo]; born September 14, 1')"
      ]
     },
     "execution_count": 161,
     "metadata": {},
     "output_type": "execute_result"
    }
   ],
   "source": [
    "# 수집한 데이터를 한개의 텍스트 덩어리로 획득\n",
    "str_txt=' '.join(texts)\n",
    "len(str_txt), str_txt[:100]"
   ]
  },
  {
   "cell_type": "code",
   "execution_count": 166,
   "metadata": {},
   "outputs": [],
   "source": [
    "# 정규식을 활용하여 알파벳만 남긴다\n",
    "import re"
   ]
  },
  {
   "cell_type": "code",
   "execution_count": 167,
   "metadata": {},
   "outputs": [],
   "source": [
    "# [ : 문자클래스 한개, *:0부터 무한, +:1부터 무한, ^:시작 문자어(제외하고 다 빼라)\n",
    "p =re.compile('[^a-zA-Z]*')"
   ]
  },
  {
   "cell_type": "code",
   "execution_count": 169,
   "metadata": {},
   "outputs": [
    {
     "data": {
      "text/plain": [
       "(10215, 'bongjoonho')"
      ]
     },
     "execution_count": 169,
     "metadata": {},
     "output_type": "execute_result"
    }
   ],
   "source": [
    "tmp = p.sub('',str_txt)\n",
    "#전부 소문자로 처리\n",
    "# tmp.upper()\n",
    "len(tmp.lower()), tmp.lower()[:10]\n"
   ]
  },
  {
   "cell_type": "markdown",
   "metadata": {},
   "source": [
    "### 3. 데이터 준비"
   ]
  },
  {
   "cell_type": "markdown",
   "metadata": {},
   "source": [
    "- 알파벳을 제외한 모든 문자 제거(전처리,정규식)<br>- 편의상 앞단계에서 같이 병행처리 했다.<br>- 제공 데이터에서는 여기서 실제 처리하겠다.\n",
    "- 텍스트를 알파벳의 출현 빈도로 계산한다(문자계산, 데이터의 수치화)\n",
    "- 데이터는 훈련 데이터(훈련(50), 검증(25))와 테스트 데이터(25)로 나눈다 (훈련:테스트=75:25) 황금비율, 단 바뀔수 있다"
   ]
  },
  {
   "cell_type": "code",
   "execution_count": 72,
   "metadata": {},
   "outputs": [],
   "source": [
    "#데이터를 다 읽어 들인다 => 파일 목록이 필요\n",
    "#glob은 특정 패턴을 부여해서 특정 위치의 파일 목록을 가져온다\n",
    "import os.path, glob"
   ]
  },
  {
   "cell_type": "code",
   "execution_count": 74,
   "metadata": {},
   "outputs": [
    {
     "data": {
      "text/plain": [
       "(20, list, ['./data/train\\\\en-1.txt', './data/train\\\\en-2.txt'])"
      ]
     },
     "execution_count": 74,
     "metadata": {},
     "output_type": "execute_result"
    }
   ],
   "source": [
    "file_list = glob.glob('./data/train/*.txt')\n",
    "len(file_list), type(file_list), file_list[:2]"
   ]
  },
  {
   "cell_type": "code",
   "execution_count": 78,
   "metadata": {},
   "outputs": [
    {
     "data": {
      "text/plain": [
       "'./data/train\\\\en-1.txt'"
      ]
     },
     "execution_count": 78,
     "metadata": {},
     "output_type": "execute_result"
    }
   ],
   "source": [
    "#파일을 읽어서 알파벳별 빈도를 계산, 그런 데이터가 en 혹은 fr등 이 데이터가 어떤 언어인지(레이블, 정답)까지 데이터화 한다.\n",
    "# 1. 파일명 획득\n",
    "fName = file_list[0]\n",
    "fName"
   ]
  },
  {
   "cell_type": "code",
   "execution_count": 82,
   "metadata": {},
   "outputs": [
    {
     "data": {
      "text/plain": [
       "'en-1.txt'"
      ]
     },
     "execution_count": 82,
     "metadata": {},
     "output_type": "execute_result"
    }
   ],
   "source": [
    "# 2.파일명만 획득\n",
    "name = os.path.basename(fName)\n",
    "name"
   ]
  },
  {
   "cell_type": "code",
   "execution_count": 89,
   "metadata": {},
   "outputs": [
    {
     "data": {
      "text/plain": [
       "'en'"
      ]
     },
     "execution_count": 89,
     "metadata": {},
     "output_type": "execute_result"
    }
   ],
   "source": [
    "# 3. 파일명에는 정답(레이블)이 들어있다. 이것을 추출\n",
    "# 확장성을 고려하여 정규식으로 처리\n",
    "p = re.compile('^[a-z]{2}')  #d알파벳으로 시작하면서 2개만 추출\n",
    "if p.match(name):  # 테스트 12 로 해보기\n",
    "    lang=p.match(name).group()\n",
    "else:\n",
    "    print('일치하지 않음')\n",
    "lang"
   ]
  },
  {
   "cell_type": "code",
   "execution_count": 120,
   "metadata": {},
   "outputs": [],
   "source": [
    "# 4. 알파벳 빈도 계산\n",
    "# 4-1. 파일을 읽는다.\n",
    "# 4-2. 알파벳만 남긴다(정규식으로 전처리)\n",
    "# 4-3. 소문자로 처리\n",
    "# 4-4. 알파벳 별로 카운트 계산 => 로직, 방법이 필요"
   ]
  },
  {
   "cell_type": "code",
   "execution_count": 178,
   "metadata": {},
   "outputs": [
    {
     "name": "stdout",
     "output_type": "stream",
     "text": [
      "[{'t': 370, 'h': 201, 'e': 484, 'm': 121, 'a': 349, 'i': 340, 'n': 356, 'r': 357, 'y': 92, 'f': 72, 'o': 412, 'd': 212, 'u': 119, 's': 282, 'b': 59, 'l': 247, 'g': 88, 'c': 210, 'v': 45, 'p': 76, 'j': 8, 'w': 65, 'k': 25, 'x': 3, 'z': 2}, {'t': 652, 'h': 230, 'i': 632, 's': 601, 'a': 706, 'r': 756, 'c': 255, 'l': 355, 'e': 1149, 'n': 449, 'd': 326, 'o': 577, 'f': 146, 'v': 115, 'p': 170, 'm': 203, 'b': 167, 'y': 90, 'g': 262, 'u': 257, 'j': 22, 'w': 117, 'q': 46, 'k': 82, 'x': 17, 'z': 5}, {'s': 318, 't': 293, 'i': 342, 'w': 43, 'e': 434, 'n': 273, 'g': 91, 'r': 195, 'o': 277, 'u': 105, 'v': 68, 'y': 65, 'p': 75, 'a': 259, 'm': 81, 'k': 6, 'l': 206, 'f': 53, 'c': 165, 'd': 118, 'h': 85, 'b': 44, 'j': 9, 'x': 2, 'q': 6, 'z': 2}, {'t': 497, 'h': 313, 'i': 346, 's': 389, 'a': 383, 'r': 314, 'c': 159, 'l': 238, 'e': 642, 'n': 311, 'd': 210, 'o': 465, 'f': 89, 'v': 27, 'p': 89, 'm': 114, 'b': 147, 'y': 93, 'g': 125, 'u': 129, 'w': 104, 'x': 32, 'k': 69, 'j': 8, 'z': 9, 'q': 2}, {'t': 436, 'h': 260, 'e': 645, 'p': 86, 'o': 302, 'm': 132, 'r': 331, 'a': 337, 'i': 297, 's': 272, 'j': 15, 'u': 114, 'b': 93, 'y': 68, 'c': 142, 'v': 49, 'n': 284, 'g': 93, 'l': 181, 'w': 109, 'x': 14, 'f': 93, 'd': 181, 'k': 27, 'z': 3, 'q': 2}, {'c': 581, 'e': 2347, 't': 1210, 'a': 1228, 'r': 1171, 'i': 1082, 'l': 1096, 's': 1117, 'u': 834, 'n': 1126, 'b': 163, 'h': 242, 'o': 767, 'g': 167, 'd': 831, 'v': 223, 'p': 406, 'z': 13, 'm': 418, 'j': 36, 'y': 57, 'w': 11, 'k': 64, 'f': 253, 'q': 92, 'x': 61}, {'v': 295, 'o': 1580, 'u': 1511, 's': 2278, 'l': 1804, 'i': 1998, 'e': 4155, 'z': 13, 'n': 1908, 'b': 414, 'a': 2162, 'r': 2074, 't': 1958, 'c': 992, 'p': 809, 'd': 1244, 'w': 126, 'm': 873, 'y': 148, 'g': 319, 'f': 327, 'h': 350, 'q': 190, 'x': 108, 'k': 54, 'j': 59}, {'p': 532, 'o': 1048, 'u': 861, 'r': 1301, 'l': 1008, 'e': 2550, 's': 1325, 'a': 1230, 't': 1111, 'i': 1208, 'c': 599, 'h': 195, 'm': 711, 'n': 1290, 'y': 82, 'v': 215, 'b': 221, 'd': 761, 'f': 178, 'j': 51, 'w': 44, 'g': 179, 'q': 112, 'x': 84, 'k': 17, 'z': 2}, {'c': 321, 'h': 116, 'r': 661, 'o': 453, 'n': 596, 'l': 500, 'g': 109, 'i': 689, 'e': 1266, 's': 536, 'a': 585, 'd': 412, 'x': 41, 'm': 234, 'p': 189, 'q': 47, 'u': 344, 't': 492, 'b': 127, 'f': 105, 'j': 35, 'v': 122, 'y': 40, 'z': 16, 'k': 15, 'w': 6}, {'x': 17, 'i': 461, 'e': 735, 's': 371, 'c': 181, 'l': 295, 'a': 405, 'n': 410, 'o': 306, 'm': 127, 'r': 399, 'v': 72, 't': 325, 'p': 120, 'g': 103, 'f': 62, 'd': 266, 'u': 225, 'h': 100, 'b': 59, 'j': 20, 'q': 24, 'k': 12, 'y': 27, 'z': 6, 'w': 2}, {'g': 120, 'o': 75, 'r': 154, 'i': 210, 'l': 97, 'a': 253, 't': 94, 'm': 59, 'u': 85, 'j': 8, 'n': 173, 'b': 65, 'e': 194, 'd': 69, 'k': 50, 'y': 19, 's': 139, 'v': 8, 'c': 29, 'f': 9, 'h': 28, 'p': 50, 'w': 13, 'z': 3, 'x': 3}, {'h': 147, 'i': 796, 'e': 741, 'r': 370, 'a': 1171, 'k': 301, 'l': 295, 's': 646, 'f': 88, 'b': 196, 'o': 282, 'g': 269, 'm': 305, 'u': 322, 'd': 313, 'p': 276, 't': 403, 'j': 42, 'n': 672, 'y': 108, 'v': 64, 'w': 40, 'c': 73, 'z': 5, 'x': 11}, {'p': 765, 'e': 2129, 't': 1269, 'a': 4514, 'b': 594, 'u': 1235, 'm': 1067, 'i': 2218, 'g': 1262, 'o': 787, 'r': 1325, 'f': 323, 'd': 986, 'l': 904, 'h': 475, 'y': 371, 'n': 2528, 'j': 188, 'k': 1003, 's': 1212, 'v': 40, 'w': 104, 'c': 140, 'z': 6, 'x': 6}, {'a': 2522, 'n': 1326, 't': 742, 'r': 746, 'o': 863, 'p': 442, 'l': 723, 'g': 672, 'i': 1451, 'b': 377, 'd': 483, 'u': 695, 'y': 175, 's': 811, 'k': 611, 'e': 1039, 'm': 647, 'j': 99, 'f': 118, 'v': 33, 'h': 224, 'w': 27, 'c': 68, 'z': 8, 'x': 3}, {'u': 2665, 'n': 6155, 't': 3093, 'k': 2213, 'e': 5149, 'g': 2102, 'a': 11092, 'l': 2198, 'i': 5464, 'd': 2840, 'r': 3504, 'o': 2145, 's': 3350, 'h': 1283, 'm': 2093, 'b': 1581, 'p': 1831, 'j': 558, 'w': 384, 'c': 508, 'y': 796, 'f': 315, 'v': 185, 'z': 70, 'x': 19, 'q': 11}, {'t': 1491, 'a': 6098, 'g': 2633, 'l': 1390, 'o': 1223, 'w': 339, 'i': 2383, 'k': 739, 'n': 3478, 's': 1341, 'u': 752, 'b': 672, 'm': 826, 'y': 550, 'h': 514, 'p': 917, 'e': 662, 'd': 360, 'r': 483, 'q': 24, 'c': 222, 'z': 29, 'f': 96, 'j': 35, 'v': 67, 'x': 14}, {'t': 1475, 'u': 1074, 'n': 4250, 'g': 2955, 'k': 1152, 'o': 1626, 'l': 1523, 'i': 2799, 's': 1779, 'a': 7231, 'm': 1420, 'h': 555, 'p': 948, 'r': 762, 'e': 758, 'y': 926, 'w': 299, 'f': 59, 'd': 460, 'b': 589, 'c': 164, 'q': 8, 'v': 21, 'j': 23, 'z': 5, 'x': 10}, {'a': 4100, 'n': 2414, 'g': 1632, 'r': 480, 't': 1064, 'i': 1256, 'k': 557, 'u': 621, 'l': 880, 'o': 764, 's': 845, 'e': 532, 'y': 352, 'p': 559, 'h': 201, 'b': 376, 'd': 228, 'm': 628, 'w': 255, 'c': 45, 'v': 19, 'j': 32, 'f': 5, 'z': 1, 'q': 1, 'x': 1}, {'p': 337, 'a': 2054, 'r': 531, 's': 682, 'd': 252, 'i': 862, 'y': 270, 'o': 648, 'n': 1307, 'g': 774, 'e': 751, 'l': 491, 'm': 432, 't': 634, 'h': 220, 'c': 220, 'v': 59, 'u': 322, 'z': 31, 'b': 264, 'f': 57, 'x': 10, 'j': 22, 'q': 5, 'k': 238, 'w': 95}, {'n': 834, 'e': 466, 'g': 240, 'm': 173, 't': 335, 's': 472, 'o': 491, 'p': 224, 'a': 1469, 'i': 548, 'l': 367, 'w': 42, 'y': 246, 'u': 202, 'k': 107, 'r': 286, 'h': 49, 'c': 142, 'd': 269, 'b': 165, 'j': 17, 'f': 42, 'v': 35, 'q': 13, 'x': 3, 'z': 22}]\n"
     ]
    }
   ],
   "source": [
    "p =re.compile('[^a-zA-Z]*')\n",
    "\n",
    "\n",
    "count_list = list()\n",
    "\n",
    "for file in file_list:\n",
    "    f = open(file, \"r\", encoding='UTF8')\n",
    "    while True :\n",
    "        line = f.readlines()\n",
    "        if not line : \n",
    "            break\n",
    "#         print(line, file )\n",
    "        str_txt=' '.join(line)\n",
    "        tmp = p.sub('',str_txt)\n",
    "        tmp = tmp.lower()\n",
    "#         print(tmp)\n",
    "        \n",
    "        count = dict()\n",
    "        for i in tmp:\n",
    "            count[i]=count.get(i, 0) + 1\n",
    "    count_list.append(count)\n",
    "    f.close()\n",
    "    \n",
    "print(count_list)"
   ]
  },
  {
   "cell_type": "code",
   "execution_count": 115,
   "metadata": {},
   "outputs": [],
   "source": []
  },
  {
   "cell_type": "code",
   "execution_count": null,
   "metadata": {},
   "outputs": [],
   "source": []
  },
  {
   "cell_type": "code",
   "execution_count": null,
   "metadata": {},
   "outputs": [],
   "source": []
  },
  {
   "cell_type": "markdown",
   "metadata": {},
   "source": [
    "### 4. 데이터 탐색"
   ]
  },
  {
   "cell_type": "code",
   "execution_count": null,
   "metadata": {},
   "outputs": [],
   "source": []
  },
  {
   "cell_type": "markdown",
   "metadata": {},
   "source": [
    "### 5. 데이터 모델링 및 모델 구축"
   ]
  },
  {
   "cell_type": "code",
   "execution_count": null,
   "metadata": {},
   "outputs": [],
   "source": []
  },
  {
   "cell_type": "markdown",
   "metadata": {},
   "source": [
    "### 6. 시스템 통합"
   ]
  },
  {
   "cell_type": "code",
   "execution_count": null,
   "metadata": {},
   "outputs": [],
   "source": []
  },
  {
   "cell_type": "code",
   "execution_count": null,
   "metadata": {},
   "outputs": [],
   "source": []
  },
  {
   "cell_type": "code",
   "execution_count": null,
   "metadata": {},
   "outputs": [],
   "source": []
  },
  {
   "cell_type": "code",
   "execution_count": null,
   "metadata": {},
   "outputs": [],
   "source": []
  },
  {
   "cell_type": "code",
   "execution_count": null,
   "metadata": {},
   "outputs": [],
   "source": []
  },
  {
   "cell_type": "code",
   "execution_count": null,
   "metadata": {},
   "outputs": [],
   "source": []
  },
  {
   "cell_type": "code",
   "execution_count": null,
   "metadata": {},
   "outputs": [],
   "source": []
  },
  {
   "cell_type": "code",
   "execution_count": null,
   "metadata": {},
   "outputs": [],
   "source": []
  },
  {
   "cell_type": "code",
   "execution_count": null,
   "metadata": {},
   "outputs": [],
   "source": []
  },
  {
   "cell_type": "code",
   "execution_count": null,
   "metadata": {},
   "outputs": [],
   "source": []
  },
  {
   "cell_type": "code",
   "execution_count": null,
   "metadata": {},
   "outputs": [],
   "source": []
  },
  {
   "cell_type": "code",
   "execution_count": null,
   "metadata": {},
   "outputs": [],
   "source": []
  },
  {
   "cell_type": "code",
   "execution_count": null,
   "metadata": {},
   "outputs": [],
   "source": []
  },
  {
   "cell_type": "code",
   "execution_count": null,
   "metadata": {},
   "outputs": [],
   "source": []
  },
  {
   "cell_type": "code",
   "execution_count": null,
   "metadata": {},
   "outputs": [],
   "source": []
  },
  {
   "cell_type": "code",
   "execution_count": null,
   "metadata": {},
   "outputs": [],
   "source": []
  }
 ],
 "metadata": {
  "kernelspec": {
   "display_name": "Python 3",
   "language": "python",
   "name": "python3"
  },
  "language_info": {
   "codemirror_mode": {
    "name": "ipython",
    "version": 3
   },
   "file_extension": ".py",
   "mimetype": "text/x-python",
   "name": "python",
   "nbconvert_exporter": "python",
   "pygments_lexer": "ipython3",
   "version": "3.7.4"
  }
 },
 "nbformat": 4,
 "nbformat_minor": 2
}
