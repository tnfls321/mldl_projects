{
 "cells": [
  {
   "cell_type": "markdown",
   "metadata": {},
   "source": [
    "### 파이썬에서 mysql계열 디비 엑세스\n",
    "\n",
    "- 모듈 : pymysql 사용\n",
    "    - $conda install pymysql -y"
   ]
  },
  {
   "cell_type": "code",
   "execution_count": 2,
   "metadata": {},
   "outputs": [],
   "source": [
    "import pymysql"
   ]
  },
  {
   "cell_type": "code",
   "execution_count": 8,
   "metadata": {},
   "outputs": [],
   "source": [
    "# 1. 접속, 해제\n",
    "# https://github.com/PyMySQL/PyMySQL\n",
    "# 1-1. 접속 객체 생성 및 접속\n",
    "connection = pymysql.connect(host='localhost',\n",
    "                             user='root',\n",
    "                             password='12341234',\n",
    "                             db='py_db',\n",
    "                             charset='utf8mb4',\n",
    "                             cursorclass=pymysql.cursors.DictCursor)   #DictCursor : 리스트, 딕셔너리로 나옴"
   ]
  },
  {
   "cell_type": "code",
   "execution_count": 9,
   "metadata": {},
   "outputs": [],
   "source": [
    "if connection:\n",
    "    connection.close()"
   ]
  },
  {
   "cell_type": "code",
   "execution_count": null,
   "metadata": {},
   "outputs": [],
   "source": [
    "# 2. 접속, 쿼리, 해제"
   ]
  },
  {
   "cell_type": "code",
   "execution_count": 22,
   "metadata": {},
   "outputs": [],
   "source": [
    "connection = pymysql.connect(host='localhost',\n",
    "                             user='root',\n",
    "                             password='12341234',\n",
    "                             db='py_db',\n",
    "                             charset='utf8mb4',\n",
    "                             cursorclass=pymysql.cursors.DictCursor)   #DictCursor : 리스트, 딕셔너리로 나옴\n",
    "\n",
    "#쿼리문이 틀려도 서버 죽지 않음\n",
    "try:\n",
    "    # 쿼리\n",
    "    with connection.cursor() as cursor:\n",
    "        # 퀴리문\n",
    "        sql = '''\n",
    "        INSERT INTO `py_db`.`tbl_trans_lang_log` \n",
    "            (`oCode`, `tCode`, `oStr`, `tStr`) \n",
    "        VALUES \n",
    "            (%s, %s, %s, %s);\n",
    "        '''\n",
    "        #쿼리수행\n",
    "        cursor.execute(sql, ('en', 'ko', 'hello2', '안녕2'))\n",
    "\n",
    "    # 커밋 수행(디비에 실제 반영)\n",
    "    connection.commit()\n",
    "    \n",
    "except Exception as e:\n",
    "    print(e)\n",
    "finally:\n",
    "    if connection:\n",
    "        connection.close()\n",
    "\n"
   ]
  },
  {
   "cell_type": "code",
   "execution_count": 14,
   "metadata": {},
   "outputs": [
    {
     "name": "stdout",
     "output_type": "stream",
     "text": [
      "1\n",
      "2\n",
      "4\n",
      "5\n"
     ]
    }
   ],
   "source": [
    "# # 예외처리 => s/w는 죽으면 안된다(-> 오류가 발생할만한 잠재적인 요인을 가진 부분에는 모두 다 예외처리를 수행해야 한다.)\n",
    "# # io, 사용자가 받아서 쓰는 경우(예측이 불가할 때)\n",
    "# try:\n",
    "#     print(1)\n",
    "# #     1/0\n",
    "#     print(2)\n",
    "# except Exception as e:\n",
    "#     print(3, e)\n",
    "# else:\n",
    "#     print(4)\n",
    "# finally:\n",
    "#     print(5)"
   ]
  },
  {
   "cell_type": "code",
   "execution_count": 16,
   "metadata": {},
   "outputs": [
    {
     "name": "stdout",
     "output_type": "stream",
     "text": [
      "0\n",
      "1\n",
      "2\n",
      "3\n",
      "4\n",
      "정상적으로 모두 다 반복수행했다\n"
     ]
    }
   ],
   "source": [
    "# # else : 정상적으로 멈춤없이 끝까지 갔는지 checking!!\n",
    "# for n in range(5):\n",
    "#     print(n)\n",
    "# else:\n",
    "#     print('정상적으로 모두 다 반복수행했다')"
   ]
  },
  {
   "cell_type": "code",
   "execution_count": 17,
   "metadata": {},
   "outputs": [
    {
     "name": "stdout",
     "output_type": "stream",
     "text": [
      "0\n",
      "1\n"
     ]
    }
   ],
   "source": [
    "# for n in range(5):\n",
    "#     if n ==2: break\n",
    "#     print(n)\n",
    "# else:\n",
    "#     print('정상적으로 모두 다 반복수행했다')"
   ]
  },
  {
   "cell_type": "code",
   "execution_count": null,
   "metadata": {},
   "outputs": [],
   "source": [
    "# 3. 접속, 쿼리, 해제 모듈화(함수화)\n",
    "# 3-1 2단계에 구현한 내용을 함수로 작성\n",
    "# 3-2 db폴더 밑에 __init__.py 파일 생성\n",
    "# 3-3 해당 함수를 __init__.py 파일에 붙여넣기\n",
    "# 3-4 ml/__init__.py 에 해당 모듈(위의 함수가 있는)을 가져와서 로그 저장 부분 완성"
   ]
  },
  {
   "cell_type": "code",
   "execution_count": null,
   "metadata": {},
   "outputs": [],
   "source": []
  },
  {
   "cell_type": "code",
   "execution_count": null,
   "metadata": {},
   "outputs": [],
   "source": []
  },
  {
   "cell_type": "code",
   "execution_count": null,
   "metadata": {},
   "outputs": [],
   "source": []
  },
  {
   "cell_type": "code",
   "execution_count": null,
   "metadata": {},
   "outputs": [],
   "source": []
  },
  {
   "cell_type": "code",
   "execution_count": null,
   "metadata": {},
   "outputs": [],
   "source": []
  }
 ],
 "metadata": {
  "kernelspec": {
   "display_name": "Python 3",
   "language": "python",
   "name": "python3"
  },
  "language_info": {
   "codemirror_mode": {
    "name": "ipython",
    "version": 3
   },
   "file_extension": ".py",
   "mimetype": "text/x-python",
   "name": "python",
   "nbconvert_exporter": "python",
   "pygments_lexer": "ipython3",
   "version": "3.7.4"
  }
 },
 "nbformat": 4,
 "nbformat_minor": 2
}
